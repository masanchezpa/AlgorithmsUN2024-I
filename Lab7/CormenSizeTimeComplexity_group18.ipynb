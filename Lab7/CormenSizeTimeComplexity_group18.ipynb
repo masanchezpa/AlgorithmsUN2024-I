{
  "nbformat": 4,
  "nbformat_minor": 0,
  "metadata": {
    "colab": {
      "provenance": [],
      "include_colab_link": true
    },
    "kernelspec": {
      "name": "python3",
      "display_name": "Python 3"
    },
    "language_info": {
      "name": "python"
    }
  },
  "cells": [
    {
      "cell_type": "markdown",
      "metadata": {
        "id": "view-in-github",
        "colab_type": "text"
      },
      "source": [
        "<a href=\"https://colab.research.google.com/github/masanchezpa/AlgorithmsUN2024-I/blob/main/Lab7/CormenSizeTimeComplexity_group18.ipynb\" target=\"_parent\"><img src=\"https://colab.research.google.com/assets/colab-badge.svg\" alt=\"Open In Colab\"/></a>"
      ]
    },
    {
      "cell_type": "markdown",
      "metadata": {
        "id": "I5UAAxG2_CqQ"
      },
      "source": [
        "###**Names:** David Felipe Marin Rosas, Jesús Ernesto Quiñones Cely, Maria Camila Sanchez Paez.\n",
        "###**UN Ids:** dmarinro, jequinonesc, masanchezpa.\n",
        "###**List numbers:** 18, 23, 28.\n",
        "###**Group:** 18.\n",
        "# **0. 1 microsecond by instruction**\n",
        "Asuming that you can execute a million instructions $10^6$ every second, i.e. each instruction takes one microsecond $1\\mu s=10^{-6}$ seconds. If you have algorithms take $\\bf{ Time\\ Complexity}$ steps to solve a problem of size $n$ as specified in column one. What is the size of the largest problem that you can solve in the time specified in row one?\n",
        "\n",
        "$$\n",
        "\\begin{array}{|c|c|c|c|c|c|c|c|}\n",
        " \\hline\n",
        " \\bf{ Time\\ Complexity} & Second  & Minute  & Hour & Day & Year & Century & Mileniun  \\\\\n",
        "  \\hline\\\\\n",
        "\\lg(n) &  2^{10^6}   & 2^{6\\times 10^{7}} & 2^{3.6\\times 10^{9}} & 2^{8.64\\times 10^{10}} & 2^{3.1536\\times 10^{13}} & 2^{3.1536\\times 10^{15}} & 2^{3.1536\\times 10^{18}} \\\\\n",
        "   \\hline\n",
        "\\lg^2(n) &  2^{ 1000 }  & 2^{ 7746 }  & 2^{ 60000 } & 2^{ 293939 } & 2^{ 5615692 } & 2^{ 56156923 } & 2^{ 1775837830 } \\\\\n",
        "   \\hline\\\\\n",
        "\\sqrt{n} & 10^{12}   & 3.6\\times 10^{15}  & 1.296\\times 10^{19} & 7.46496\\times 10^{21} & 9.94519296\\times 10^{26} & 9.94519296\\times 10^{30} & 9.94519296\\times 10^{36} \\\\\n",
        " \\hline\n",
        " n &  10\\times 10^{06}  & 6\\times 10^{07}  & 3.6\\times 10^{09} & 8.64\\times 10^{10} & 3.1536\\times 10^{13} & 3.1536\\times 10^{15} & 3.1536\\times 10^{18} \\\\\n",
        " \\hline\n",
        " n\\lg(n) & 6.2746\\times 10^{04}   & 2.801417\\times 10^{06}  & 1.33378058\\times 10^{08} & 2.75514751\\times 10^{09} & 7.97633893\\times 10^{11} & 6.86109568\\times 10^{13} & 5.66650934\\times 10^{16} \\\\\n",
        " \\hline\n",
        " n^2 &  1000  & 7746 & 60000 & 293939 & 5615692 & 56156923 & 1775837830 \\\\\n",
        " \\hline\n",
        "  n^3 &  100  & 391  & 1533 & 4421 & 31594 & 146646 & 1466455 \\\\\n",
        " \\hline\n",
        "  n^4 &  32  & 88  & 245 & 542 & 2370 & 7494 & 42141 \\\\\n",
        " \\hline\n",
        "  2^n &   19 & 25  & 31 & 36 & 44 & 51 & 61 \\\\\n",
        " \\hline\n",
        " n! &  9  &  11 & 12 & 13 & 16 & 17 & 20 \\\\\n",
        " \\hline\n",
        " n^n &   7 & 8  & 9 & 10 & 12 & 13 & 15 \\\\\n",
        " \\hline\n",
        "\\end{array}\n",
        "$$  "
      ]
    },
    {
      "cell_type": "code",
      "source": [
        "inst = 10**6"
      ],
      "metadata": {
        "id": "nCnV6Fn9c-6L"
      },
      "execution_count": 48,
      "outputs": []
    },
    {
      "cell_type": "markdown",
      "source": [
        "### $\\bf{ Time\\ Complexity\\ \\lg(n) }$\n"
      ],
      "metadata": {
        "id": "tJEWrYdscMo0"
      }
    },
    {
      "cell_type": "code",
      "source": [
        "time_units = [\"Second\", \"Minute\", \"Hour\", \"Day\", \"Year\", \"Century\", \"Millenium\"]\n",
        "time_values = [inst, 60*inst, 60*60*inst, 24*60*60*inst, 365*24*60*60*inst, 100*365*24*60*60*inst, 1000*100*365*24*60*60*inst]\n",
        "\n",
        "for unit, value in zip(time_units, time_values):\n",
        "    print(f\"{unit} = 2^{value:.4e}\")\n"
      ],
      "metadata": {
        "colab": {
          "base_uri": "https://localhost:8080/"
        },
        "id": "2ZyS8Ma8OVoe",
        "outputId": "fb8b6c15-1b82-439f-b559-7a84ea9bbf92"
      },
      "execution_count": 49,
      "outputs": [
        {
          "output_type": "stream",
          "name": "stdout",
          "text": [
            "Second = 2^1.0000e+06\n",
            "Minute = 2^6.0000e+07\n",
            "Hour = 2^3.6000e+09\n",
            "Day = 2^8.6400e+10\n",
            "Year = 2^3.1536e+13\n",
            "Century = 2^3.1536e+15\n",
            "Millenium = 2^3.1536e+18\n"
          ]
        }
      ]
    },
    {
      "cell_type": "markdown",
      "source": [
        "###$\\bf{ Time\\ Complexity\\ \\lg^2(n) }$\n"
      ],
      "metadata": {
        "id": "38hVtM-1cppt"
      }
    },
    {
      "cell_type": "code",
      "source": [
        "time_units = [\"Second\", \"Minute\", \"Hour\", \"Day\", \"Year\", \"Century\", \"Millenium\"]\n",
        "time_values = [inst, 60*inst, 60*60*inst, 24*60*60*inst, 365*24*60*60*inst, 100*365*24*60*60*inst, 1000*100*365*24*60*60*inst]\n",
        "\n",
        "for unit, value in zip(time_units, time_values):\n",
        "    print(f\"{unit} 2^{{{round(math.sqrt(value))}}}\")"
      ],
      "metadata": {
        "colab": {
          "base_uri": "https://localhost:8080/"
        },
        "id": "cXXVyQL7c6hM",
        "outputId": "3022b1b7-02ef-44cf-9377-b3f5b9e92a68"
      },
      "execution_count": 50,
      "outputs": [
        {
          "output_type": "stream",
          "name": "stdout",
          "text": [
            "Second 2^{1000}\n",
            "Minute 2^{7746}\n",
            "Hour 2^{60000}\n",
            "Day 2^{293939}\n",
            "Year 2^{5615692}\n",
            "Century 2^{56156923}\n",
            "Millenium 2^{1775837830}\n"
          ]
        }
      ]
    },
    {
      "cell_type": "markdown",
      "source": [
        "###$\\bf{ Time\\ Complexity\\ \\sqrt{n} }$"
      ],
      "metadata": {
        "id": "kIj5f7iTdKlJ"
      }
    },
    {
      "cell_type": "code",
      "source": [
        "time_units = [\"Second\", \"Minute\", \"Hour\", \"Day\", \"Year\", \"Century\", \"Millenium\"]\n",
        "time_values = [inst, 60*inst, 60*60*inst, 24*60*60*inst, 365*24*60*60*inst, 100*365*24*60*60*inst, 1000*100*365*24*60*60*inst]\n",
        "\n",
        "for unit, value in zip(time_units, time_values):\n",
        "    print(f\"{unit} = {math.pow(value, 2):.6E}\")\n"
      ],
      "metadata": {
        "colab": {
          "base_uri": "https://localhost:8080/"
        },
        "id": "fQ1TmaeKdcdU",
        "outputId": "b1bd006c-0fcd-4fc6-c43a-086ca571aa38"
      },
      "execution_count": 51,
      "outputs": [
        {
          "output_type": "stream",
          "name": "stdout",
          "text": [
            "Second = 1.000000E+12\n",
            "Minute = 3.600000E+15\n",
            "Hour = 1.296000E+19\n",
            "Day = 7.464960E+21\n",
            "Year = 9.945193E+26\n",
            "Century = 9.945193E+30\n",
            "Millenium = 9.945193E+36\n"
          ]
        }
      ]
    },
    {
      "cell_type": "markdown",
      "source": [
        "### $\\bf{ Time\\ Complexity\\ n }$"
      ],
      "metadata": {
        "id": "7yJcZvKd49Cl"
      }
    },
    {
      "cell_type": "code",
      "source": [
        "time_units = [\"Second\", \"Minute\", \"Hour\", \"Day\", \"Year\", \"Century\", \"Millenium\"]\n",
        "time_values = [inst, 60*inst, 60*60*inst, 24*60*60*inst, 365*24*60*60*inst, 100*365*24*60*60*inst, 1000*100*365*24*60*60*inst]\n",
        "\n",
        "for unit, value in zip(time_units, time_values):\n",
        "    print(f\"{unit} = {value:.4E}\")"
      ],
      "metadata": {
        "colab": {
          "base_uri": "https://localhost:8080/"
        },
        "id": "ZcB25X4w5MBF",
        "outputId": "f0f1ba9a-096e-49ec-a3eb-7c93900a9371"
      },
      "execution_count": 52,
      "outputs": [
        {
          "output_type": "stream",
          "name": "stdout",
          "text": [
            "Second = 1.0000E+06\n",
            "Minute = 6.0000E+07\n",
            "Hour = 3.6000E+09\n",
            "Day = 8.6400E+10\n",
            "Year = 3.1536E+13\n",
            "Century = 3.1536E+15\n",
            "Millenium = 3.1536E+18\n"
          ]
        }
      ]
    },
    {
      "cell_type": "markdown",
      "source": [
        "###$\\bf{ Time\\ Complexity\\ n\\lg{n} }$\n",
        "\n",
        "\n",
        "$Second$\n",
        "$$   n\\lg{n}  \\times 10^{-6} \\ s\\le 1\\ s$$\n",
        "$$   n\\lg{n} \\le  10^{6} $$\n",
        "\n",
        "\n",
        "$Minute$\n",
        "$$   n\\lg{n} \\times 10^{-6} \\ s\\le 60\\ s$$\n",
        "$$   n\\lg{n} \\le 60 \\times 10^{6} $$\n",
        "\n",
        "\n",
        "$Hour$\n",
        "$$   n\\lg{n} \\times 10^{-6} \\ s\\le 3600\\ s$$\n",
        "$$   n\\lg{n} \\le 3600 \\times 10^{6} $$\n",
        "\n",
        "\n",
        "$Day$\n",
        "$$   n\\lg{n} \\times 10^{-6} \\ s\\le 84600\\ s$$\n",
        "$$   n\\lg{n} \\le 84600 \\times 10^{6} $$\n",
        "\n",
        "\n",
        "$Year$\n",
        "$$   n\\lg{n} \\times 10^{-6} \\ s\\le 31536000\\ s$$\n",
        "$$   n\\lg{n} \\le 31536000 \\times 10^{6} $$\n",
        "\n",
        "\n",
        "\n",
        "$Century$\n",
        "$$   n\\lg{n} \\times 10^{-6} \\ s\\le 3153600000\\ s$$\n",
        "$$   n\\lg{n} \\le 3153600000 \\times 10^{6} $$\n",
        "\n",
        "\n",
        "$Mileniun$\n",
        "$$   n\\lg{n} \\times 10^{-6} \\ s\\le 3153600000000\\ s$$\n",
        "$$  n \\le 3153600000000 \\times 10^{6} $$\n"
      ],
      "metadata": {
        "id": "-_k3Wf9z5RJ_"
      }
    },
    {
      "cell_type": "markdown",
      "source": [
        "###$\\bf{ Time\\ Complexity\\ n^2}$"
      ],
      "metadata": {
        "id": "8C3QjiD85iYH"
      }
    },
    {
      "cell_type": "code",
      "source": [
        "time_units = [\"Second\", \"Minute\", \"Hour\", \"Day\", \"Year\", \"Century\", \"Millenium\"]\n",
        "time_values = [inst, 60*inst, 60*60*inst, 24*60*60*inst, 365*24*60*60*inst, 100*365*24*60*60*inst, 1000*100*365*24*60*60*inst]\n",
        "\n",
        "for unit, value in zip(time_units, time_values):\n",
        "    print(f\"{unit} = {round(math.sqrt(value))}\")\n"
      ],
      "metadata": {
        "colab": {
          "base_uri": "https://localhost:8080/"
        },
        "id": "T6a0gfi_51Bu",
        "outputId": "7b2894af-e8a7-42db-bb43-2ccbec06eec1"
      },
      "execution_count": 53,
      "outputs": [
        {
          "output_type": "stream",
          "name": "stdout",
          "text": [
            "Second = 1000\n",
            "Minute = 7746\n",
            "Hour = 60000\n",
            "Day = 293939\n",
            "Year = 5615692\n",
            "Century = 56156923\n",
            "Millenium = 1775837830\n"
          ]
        }
      ]
    },
    {
      "cell_type": "markdown",
      "source": [
        "###$\\bf{ Time\\ Complexity\\ n^3 }$\n"
      ],
      "metadata": {
        "id": "B1osBTrg58_2"
      }
    },
    {
      "cell_type": "code",
      "source": [
        "time_units = [\"Second\", \"Minute\", \"Hour\", \"Day\", \"Year\", \"Century\", \"Millenium\"]\n",
        "time_values = [inst, 60*inst, 60*60*inst, 24*60*60*inst, 365*24*60*60*inst, 100*365*24*60*60*inst, 1000*100*365*24*60*60*inst]\n",
        "\n",
        "for unit, value in zip(time_units, time_values):\n",
        "    print(f\"{unit} = {round(math.pow(value, 1/3))}\")"
      ],
      "metadata": {
        "colab": {
          "base_uri": "https://localhost:8080/"
        },
        "id": "qPU5DF8r6NOM",
        "outputId": "64594615-399d-4f23-d9eb-26f129d31664"
      },
      "execution_count": 54,
      "outputs": [
        {
          "output_type": "stream",
          "name": "stdout",
          "text": [
            "Second = 100\n",
            "Minute = 391\n",
            "Hour = 1533\n",
            "Day = 4421\n",
            "Year = 31594\n",
            "Century = 146646\n",
            "Millenium = 1466455\n"
          ]
        }
      ]
    },
    {
      "cell_type": "markdown",
      "source": [
        "###$\\bf{ Time\\ Complexity\\ n^4 }$\n",
        "\n",
        "\n",
        "\n",
        "  "
      ],
      "metadata": {
        "id": "ISCXb9ba6Wk-"
      }
    },
    {
      "cell_type": "code",
      "source": [
        "time_units = [\"Second\", \"Minute\", \"Hour\", \"Day\", \"Year\", \"Century\", \"Millenium\"]\n",
        "time_values = [inst, 60*inst, 60*60*inst, 24*60*60*inst, 365*24*60*60*inst, 100*365*24*60*60*inst, 1000*100*365*24*60*60*inst]\n",
        "\n",
        "for unit, value in zip(time_units, time_values):\n",
        "    print(f\"{unit} = {round(math.pow(value, 1/4))}\")"
      ],
      "metadata": {
        "colab": {
          "base_uri": "https://localhost:8080/"
        },
        "id": "wFf_0Gql6urG",
        "outputId": "c0ba5f95-0ef1-4e6b-a93f-1cb043093321"
      },
      "execution_count": 55,
      "outputs": [
        {
          "output_type": "stream",
          "name": "stdout",
          "text": [
            "Second = 32\n",
            "Minute = 88\n",
            "Hour = 245\n",
            "Day = 542\n",
            "Year = 2370\n",
            "Century = 7494\n",
            "Millenium = 42141\n"
          ]
        }
      ]
    },
    {
      "cell_type": "markdown",
      "source": [
        "###$\\bf{ Time\\ Complexity\\ 2^n }$\n",
        "\n"
      ],
      "metadata": {
        "id": "wtb6BOHe63Bz"
      }
    },
    {
      "cell_type": "code",
      "source": [
        "time_units = [\"Second\", \"Minute\", \"Hour\", \"Day\", \"Year\", \"Century\", \"Millenium\"]\n",
        "time_values = [inst, 60*inst, 60*60*inst, 24*60*60*inst, 365*24*60*60*inst, 100*365*24*60*60*inst, 1000*100*365*24*60*60*inst]\n",
        "\n",
        "for unit, value in zip(time_units, time_values):\n",
        "    print(f\"{unit} = {int(math.log2(value))}\")"
      ],
      "metadata": {
        "colab": {
          "base_uri": "https://localhost:8080/"
        },
        "id": "gt57ccUJ7PU4",
        "outputId": "70f484d8-8505-431e-af6d-1b6c45edb2a9"
      },
      "execution_count": 58,
      "outputs": [
        {
          "output_type": "stream",
          "name": "stdout",
          "text": [
            "Second = 19\n",
            "Minute = 25\n",
            "Hour = 31\n",
            "Day = 36\n",
            "Year = 44\n",
            "Century = 51\n",
            "Millenium = 61\n"
          ]
        }
      ]
    },
    {
      "cell_type": "markdown",
      "source": [
        "\\###$\\bf{ Time\\ Complexity\\ n! }$\n",
        "$Second$\n",
        "$$  n!  \\times 10^{-6} \\ s\\le 1\\ s$$\n",
        "$$  n! \\le  10^{6} $$\n",
        "\n",
        "\n",
        "$Minute$\n",
        "$$  n! \\times 10^{-6} \\ s\\le 60\\ s$$\n",
        "$$  n! \\le 60 \\times 10^{6} $$\n",
        "\n",
        "$Hour$\n",
        "$$  n! \\times 10^{-6} \\ s\\le 3600\\ s$$\n",
        "$$  n! \\le 3600 \\times 10^{6}  = 3.6 \\times 10^{9}$$\n",
        "\n",
        "\n",
        "$Day$\n",
        "$$  n! \\times 10^{-6} \\ s\\le 84600\\ s$$\n",
        "$$  n! \\le 84600 \\times 10^{6}  = 8.46 \\times 10^{10}$$\n",
        "\n",
        "$Year$\n",
        "$$  n! \\times 10^{-6} \\ s\\le 31536000\\ s$$\n",
        "$$  n! \\le 31536000 \\times 10^{6}   = 3.153 \\times 10^{13}$$\n",
        "\n",
        "$Century$\n",
        "$$  n! \\times 10^{-6} \\ s\\le 3153600000\\ s$$\n",
        "$$  n! \\le 3153600000 \\times 10^{6}  = 3.153 \\times 10^{15}$$\n",
        "\n",
        "$Mileniun$\n",
        "$$  n! \\times 10^{-6} \\ s\\le 3153600000000\\ s$$\n",
        "$$  n! \\le 3153600000000 \\times 10^{6}  = 3.153 \\times 10^{18}$$\n"
      ],
      "metadata": {
        "id": "dDHsqiFW-xW0"
      }
    },
    {
      "cell_type": "markdown",
      "source": [
        " ### $\\bf{ Time\\ Complexity\\ n^n }$\n",
        "\n",
        "\n",
        "$Second$\n",
        "$$  n^n  \\times 10^{-6} \\ s\\le 1\\ s$$\n",
        "$$  n^n \\le  10^{6} $$\n",
        "\n",
        "$Minute$\n",
        "$$  n^n \\times 10^{-6} \\ s\\le 60\\ s$$\n",
        "$$  n^n \\le 60 \\times 10^{6} $$\n",
        "\n",
        "$Hour$\n",
        "$$  n^n \\times 10^{-6} \\ s\\le 3600\\ s$$\n",
        "$$  n^n \\le 3600 \\times 10^{6} $$\n",
        "\n",
        "$Day$\n",
        "$$  n^n \\times 10^{-6} \\ s\\le 84600\\ s$$\n",
        "$$  n^n \\le 84600 \\times 10^{6} $$\n",
        "\n",
        "$Year$\n",
        "$$  n^n \\times 10^{-6} \\ s\\le 31536000\\ s$$\n",
        "$$  n^n \\le 31536000 \\times 10^{6}$$\n",
        "\n",
        "\n",
        "$Century$\n",
        "$$  n^n \\times 10^{-6} \\ s\\le 3153600000\\ s$$\n",
        "$$  n^n \\le 3153600000 \\times 10^{6}$$  \n",
        "\n",
        "$Mileniun$\n",
        "$$  n^n \\times 10^{-6} \\ s\\le 3153600000000\\ s$$\n",
        "$$  n^n \\le 3153600000000 \\times 10^{6} $$"
      ],
      "metadata": {
        "id": "HdilFgyx_cFh"
      }
    },
    {
      "cell_type": "markdown",
      "metadata": {
        "id": "yCCsCOW2OQbQ"
      },
      "source": [
        "# 1. **10  nanoseconds by instruction**\n",
        "\n",
        "Asuuming that you can execute a 100 million instructions $100 \\times 10^6$ every second, i.e. each instrcution takes 10 nanoseconds, 10 $\\eta s  = 10^{-8} s $. If you have algorithms take $\\bf{ Time\\ Complexity}$ steps to solve a poblem of size $n$ as specified in column one. What is the size of the largest porblem that you can solve in the time specified in row one?\n",
        "$$\n",
        "\\begin{array}{|c|c|c|c|c|c|c|c|}\n",
        " \\hline\n",
        " \\bf{ Time\\ Complexity} & Second  & Minute  & Hour & Day & Year & Century & Mileniun  \\\\\n",
        "  \\hline\\\\\n",
        "\\lg(n) & 2^{10^8} & 2^{6\\times 10^9}  & 2^{3.6\\times 10^{11}} & 2^{8.64\\times 10^{12}} & 2^{3.1536\\times 10^{15}} & 2^{3.1536\\times 10^{17}} & 2^{3.1536\\times 10^{20}} \\\\\n",
        "   \\hline\\\\\n",
        "\\lg^2(n) &  2^{ 10000 }  & 2^{ 77460 }  & 2^{ 600000 } & 2^{ 2939388 } & 2^{ 56156923 } & 2^{ 561569230 } & 2^{ 17758378304 } \\\\\n",
        "   \\hline\\\\\n",
        "\\sqrt{n} &  10\\times 10^{16}  &  3.6\\times 10^{19} & 1.296\\times 10^{23} & 7.46496\\times 10^{25} & 9.94519296\\times 10^{30} & 9.94519296\\times 10^{34} & 9.94519296\\times 10^{40} \\\\\n",
        " \\hline\n",
        " n &  1\\times 10^{08}  & 6.0\\times 10^{09}  & 3.6\\times 10^{11} & 8.64\\times 10^{12} & 3.1536\\times 10^{15} & 3.1536\\times 10^{17} & 3.1536\\times 10^{20} \\\\\n",
        " \\hline\n",
        " n\\lg(n) &  4.52307100\\times 10^{06}  & 2.16677120\\times 10^{08}  & 1.08009383\\times 10^{10} & 2.28957338\\times 10^{11} & 6.86109568\\times 10^{13} & 6.01627776\\times 10^{15} & 5.07514271\\times 10^{18} \\\\\n",
        " \\hline\n",
        " n^2 &  10000  &  77460 & 600000 & 2939388 & 56156923 & 561569230 &  17758378304\\\\\n",
        " \\hline\n",
        "  n^3 &  464  & 1817  & 7114 & 20520 & 146646 & 680668 & 6806683 \\\\\n",
        " \\hline\n",
        "  n^4 &  100  &  278 & 775 & 1714 & 7494 & 23697 & 133261 \\\\\n",
        " \\hline\n",
        "  2^n &  26  & 32  & 38 & 42 & 51 & 58 &68 \\\\\n",
        " \\hline\n",
        " n! &  11  &  12 & 14 & 15 & 17 & 19 & 21 \\\\\n",
        " \\hline\n",
        " n^n &  8  & 9  & 11 & 11 & 13 & 14 & 16 \\\\\n",
        " \\hline\n",
        "\\end{array}\n",
        "$$"
      ]
    },
    {
      "cell_type": "code",
      "source": [
        "inst = 10**8"
      ],
      "metadata": {
        "id": "CPQbNQKZACuR"
      },
      "execution_count": 90,
      "outputs": []
    },
    {
      "cell_type": "markdown",
      "source": [
        "### $\\bf{ Time\\ Complexity\\ \\lg(n) }$\n"
      ],
      "metadata": {
        "id": "jDlnAN_nACuR"
      }
    },
    {
      "cell_type": "code",
      "source": [
        "time_units = [\"Second\", \"Minute\", \"Hour\", \"Day\", \"Year\", \"Century\", \"Millenium\"]\n",
        "time_values = [inst, 60*inst, 60*60*inst, 24*60*60*inst, 365*24*60*60*inst, 100*365*24*60*60*inst, 1000*100*365*24*60*60*inst]\n",
        "\n",
        "for unit, value in zip(time_units, time_values):\n",
        "    print(f\"{unit} = 2^{value:.4E}\")"
      ],
      "metadata": {
        "colab": {
          "base_uri": "https://localhost:8080/"
        },
        "id": "NwDOQVd1P1Hi",
        "outputId": "7569066e-591e-4781-f685-bb3e3591f283"
      },
      "execution_count": 81,
      "outputs": [
        {
          "output_type": "stream",
          "name": "stdout",
          "text": [
            "Second = 2^1.0000E+08\n",
            "Minute = 2^6.0000E+09\n",
            "Hour = 2^3.6000E+11\n",
            "Day = 2^8.6400E+12\n",
            "Year = 2^3.1536E+15\n",
            "Century = 2^3.1536E+17\n",
            "Millenium = 2^3.1536E+20\n"
          ]
        }
      ]
    },
    {
      "cell_type": "markdown",
      "source": [
        "###$\\bf{ Time\\ Complexity\\ \\lg^2(n) }$\n"
      ],
      "metadata": {
        "id": "R98R65HgACuR"
      }
    },
    {
      "cell_type": "code",
      "source": [
        "time_units = [\"Second\", \"Minute\", \"Hour\", \"Day\", \"Year\", \"Century\", \"Millenium\"]\n",
        "time_values = [inst, 60*inst, 60*60*inst, 24*60*60*inst, 365*24*60*60*inst, 100*365*24*60*60*inst, 1000*100*365*24*60*60*inst]\n",
        "\n",
        "for unit, value in zip(time_units, time_values):\n",
        "    print(f\"{unit} 2^{round(math.sqrt(value))}\")"
      ],
      "metadata": {
        "colab": {
          "base_uri": "https://localhost:8080/"
        },
        "outputId": "2a0abef2-0ce0-456f-a48f-effbfc9b8a78",
        "id": "CPQ9tFVhACuR"
      },
      "execution_count": 82,
      "outputs": [
        {
          "output_type": "stream",
          "name": "stdout",
          "text": [
            "Second 2^10000\n",
            "Minute 2^77460\n",
            "Hour 2^600000\n",
            "Day 2^2939388\n",
            "Year 2^56156923\n",
            "Century 2^561569230\n",
            "Millenium 2^17758378304\n"
          ]
        }
      ]
    },
    {
      "cell_type": "markdown",
      "source": [
        "###$\\bf{ Time\\ Complexity\\ \\sqrt{n} }$"
      ],
      "metadata": {
        "id": "uk2NfffVACuR"
      }
    },
    {
      "cell_type": "code",
      "source": [
        "time_units = [\"Second\", \"Minute\", \"Hour\", \"Day\", \"Year\", \"Century\", \"Millenium\"]\n",
        "time_values = [inst, 60*inst, 60*60*inst, 24*60*60*inst, 365*24*60*60*inst, 100*365*24*60*60*inst, 1000*100*365*24*60*60*inst]\n",
        "\n",
        "for unit, value in zip(time_units, time_values):\n",
        "    print(f\"{unit} {math.pow(value, 2):.4E}\")"
      ],
      "metadata": {
        "colab": {
          "base_uri": "https://localhost:8080/"
        },
        "outputId": "c786c445-82d9-4680-d385-5330af81d98a",
        "id": "ayp_3BzKACuS"
      },
      "execution_count": 83,
      "outputs": [
        {
          "output_type": "stream",
          "name": "stdout",
          "text": [
            "Second 1.0000E+16\n",
            "Minute 3.6000E+19\n",
            "Hour 1.2960E+23\n",
            "Day 7.4650E+25\n",
            "Year 9.9452E+30\n",
            "Century 9.9452E+34\n",
            "Millenium 9.9452E+40\n"
          ]
        }
      ]
    },
    {
      "cell_type": "markdown",
      "source": [
        "### $\\bf{ Time\\ Complexity\\ n }$"
      ],
      "metadata": {
        "id": "RL5loUglACuS"
      }
    },
    {
      "cell_type": "code",
      "source": [
        "time_units = [\"Second\", \"Minute\", \"Hour\", \"Day\", \"Year\", \"Century\", \"Millenium\"]\n",
        "time_values = [inst, 60*inst, 60*60*inst, 24*60*60*inst, 365*24*60*60*inst, 100*365*24*60*60*inst, 1000*100*365*24*60*60*inst]\n",
        "\n",
        "for unit, value in zip(time_units, time_values):\n",
        "    print(f\"{unit} {value:.8E}\")"
      ],
      "metadata": {
        "colab": {
          "base_uri": "https://localhost:8080/"
        },
        "outputId": "f361981d-3d3b-4e8c-8392-4d3cc9ad6780",
        "id": "EH0IwKFYACuS"
      },
      "execution_count": 84,
      "outputs": [
        {
          "output_type": "stream",
          "name": "stdout",
          "text": [
            "Second 1.00000000E+08\n",
            "Minute 6.00000000E+09\n",
            "Hour 3.60000000E+11\n",
            "Day 8.64000000E+12\n",
            "Year 3.15360000E+15\n",
            "Century 3.15360000E+17\n",
            "Millenium 3.15360000E+20\n"
          ]
        }
      ]
    },
    {
      "cell_type": "markdown",
      "source": [
        "###$\\bf{ Time\\ Complexity\\ n\\lg{n} }$\n"
      ],
      "metadata": {
        "id": "ojhdHC_8ACuS"
      }
    },
    {
      "cell_type": "code",
      "source": [
        "import math\n",
        "\n",
        "def f(n):\n",
        "    return n * math.log2(n)\n",
        "\n",
        "def find_largest_n(f, v):\n",
        "    l = 1\n",
        "    r = v\n",
        "    while True:\n",
        "        m = (l + r) // 2\n",
        "        if f(m + 1) > v and f(m) <= v or l == m or r == m:\n",
        "            return m\n",
        "        elif f(m) < v:\n",
        "            l = m\n",
        "        else:\n",
        "            r = m\n",
        "\n",
        "\n",
        "time_units = [\"Second\", \"Minute\", \"Hour\", \"Day\", \"Year\", \"Century\", \"Millenium\"]\n",
        "time_values = [inst, 60*inst, 60*60*inst, 24*60*60*inst, 365*24*60*60*inst, 100*365*24*60*60*inst, 1000*100*365*24*60*60*inst]\n",
        "\n",
        "for unit, value in zip(time_units, time_values):\n",
        "    largest_n = find_largest_n(f, value)\n",
        "    print(f\"{unit} = {largest_n} = {largest_n:.4E}\")\n"
      ],
      "metadata": {
        "colab": {
          "base_uri": "https://localhost:8080/"
        },
        "outputId": "34cd2001-c621-4baf-db55-c466b2649ed2",
        "id": "BKXdx78RACuT"
      },
      "execution_count": 86,
      "outputs": [
        {
          "output_type": "stream",
          "name": "stdout",
          "text": [
            "Second = 4523071 = 4.5231E+06\n",
            "Minute = 216677120 = 2.1668E+08\n",
            "Hour = 10800938300 = 1.0801E+10\n",
            "Day = 228957337705 = 2.2896E+11\n",
            "Year = 68610956750570 = 6.8611E+13\n",
            "Century = 6016277763015247 = 6.0163E+15\n",
            "Millenium = 5075142713362522624 = 5.0751E+18\n"
          ]
        }
      ]
    },
    {
      "cell_type": "markdown",
      "source": [
        "###$\\bf{ Time\\ Complexity\\ n^2}$"
      ],
      "metadata": {
        "id": "wY7MeZLOACuT"
      }
    },
    {
      "cell_type": "code",
      "source": [
        "import math\n",
        "\n",
        "\n",
        "time_units = [\"Second\", \"Minute\", \"Hour\", \"Day\", \"Year\", \"Century\", \"Millenium\"]\n",
        "time_values = [inst, 60*inst, 60*60*inst, 24*60*60*inst, 365*24*60*60*inst, 100*365*24*60*60*inst, 1000*100*365*24*60*60*inst]\n",
        "\n",
        "for unit, value in zip(time_units, time_values):\n",
        "    print(f\"{unit} = {round(math.sqrt(value))}\")\n"
      ],
      "metadata": {
        "colab": {
          "base_uri": "https://localhost:8080/"
        },
        "outputId": "b5fb1b65-0fb9-4dd3-d042-9e355da5ce29",
        "id": "7aYONqInACuT"
      },
      "execution_count": 87,
      "outputs": [
        {
          "output_type": "stream",
          "name": "stdout",
          "text": [
            "Second = 10000\n",
            "Minute = 77460\n",
            "Hour = 600000\n",
            "Day = 2939388\n",
            "Year = 56156923\n",
            "Century = 561569230\n",
            "Millenium = 17758378304\n"
          ]
        }
      ]
    },
    {
      "cell_type": "markdown",
      "source": [
        "###$\\bf{ Time\\ Complexity\\ n^3 }$\n"
      ],
      "metadata": {
        "id": "LV3T2hV_ACuT"
      }
    },
    {
      "cell_type": "code",
      "source": [
        "time_units = [\"Second\", \"Minute\", \"Hour\", \"Day\", \"Year\", \"Century\", \"Millenium\"]\n",
        "time_values = [inst, 60*inst, 60*60*inst, 24*60*60*inst, 365*24*60*60*inst, 100*365*24*60*60*inst, 1000*100*365*24*60*60*inst]\n",
        "\n",
        "for unit, value in zip(time_units, time_values):\n",
        "    print(f\"{unit} {round(math.pow(value, 1/3))}\")"
      ],
      "metadata": {
        "colab": {
          "base_uri": "https://localhost:8080/"
        },
        "outputId": "89762110-2a40-4177-d05e-7744fc77822d",
        "id": "SHBCX0cwACuT"
      },
      "execution_count": 88,
      "outputs": [
        {
          "output_type": "stream",
          "name": "stdout",
          "text": [
            "Second 464\n",
            "Minute 1817\n",
            "Hour 7114\n",
            "Day 20520\n",
            "Year 146646\n",
            "Century 680668\n",
            "Millenium 6806683\n"
          ]
        }
      ]
    },
    {
      "cell_type": "markdown",
      "source": [
        "###$\\bf{ Time\\ Complexity\\ n^4 }$\n",
        "\n",
        "\n",
        "\n",
        "  "
      ],
      "metadata": {
        "id": "1kf9-S2xACuT"
      }
    },
    {
      "cell_type": "code",
      "source": [
        "import math\n",
        "time_units = [\"Second\", \"Minute\", \"Hour\", \"Day\", \"Year\", \"Century\", \"Millenium\"]\n",
        "time_values = [inst, 60*inst, 60*60*inst, 24*60*60*inst, 365*24*60*60*inst, 100*365*24*60*60*inst, 1000*100*365*24*60*60*inst]\n",
        "\n",
        "for unit, value in zip(time_units, time_values):\n",
        "    print(f\"{unit} {round(math.pow(value, 1/4))}\")"
      ],
      "metadata": {
        "colab": {
          "base_uri": "https://localhost:8080/"
        },
        "outputId": "191839d5-ca02-41fe-b8ea-b0288d76e20d",
        "id": "7IatTpJIACuU"
      },
      "execution_count": 92,
      "outputs": [
        {
          "output_type": "stream",
          "name": "stdout",
          "text": [
            "Second 100\n",
            "Minute 278\n",
            "Hour 775\n",
            "Day 1714\n",
            "Year 7494\n",
            "Century 23697\n",
            "Millenium 133261\n"
          ]
        }
      ]
    },
    {
      "cell_type": "markdown",
      "source": [
        "###$\\bf{ Time\\ Complexity\\ 2^n }$\n",
        "\n"
      ],
      "metadata": {
        "id": "uXvpX2XGACuU"
      }
    },
    {
      "cell_type": "code",
      "source": [
        "time_units = [\"Second\", \"Minute\", \"Hour\", \"Day\", \"Year\", \"Century\", \"Millenium\"]\n",
        "time_values = [inst, 60*inst, 60*60*inst, 24*60*60*inst, 365*24*60*60*inst, 100*365*24*60*60*inst, 1000*100*365*24*60*60*inst]\n",
        "\n",
        "for unit, value in zip(time_units, time_values):\n",
        "    print(f\"{unit} {int(math.log2(value))}\")"
      ],
      "metadata": {
        "colab": {
          "base_uri": "https://localhost:8080/"
        },
        "outputId": "099381f6-b729-447d-96d1-776f313f402b",
        "id": "y2QG7_utACuU"
      },
      "execution_count": 93,
      "outputs": [
        {
          "output_type": "stream",
          "name": "stdout",
          "text": [
            "Second 26\n",
            "Minute 32\n",
            "Hour 38\n",
            "Day 42\n",
            "Year 51\n",
            "Century 58\n",
            "Millenium 68\n"
          ]
        }
      ]
    },
    {
      "cell_type": "markdown",
      "source": [
        "###$\\bf{ Time\\ Complexity\\ n! }$\n",
        "\n"
      ],
      "metadata": {
        "id": "6ycr583HACuU"
      }
    },
    {
      "cell_type": "code",
      "source": [
        "def find_factorial_limit(v):\n",
        "    n = 1\n",
        "    while math.factorial(n) <= v:\n",
        "        n += 1\n",
        "    return n - 1\n",
        "\n",
        "time_units = [\"Second\", \"Minute\", \"Hour\", \"Day\", \"Year\", \"Century\", \"Millenium\"]\n",
        "time_values = [inst, 60*inst, 60*60*inst, 24*60*60*inst, 365*24*60*60*inst, 100*365*24*60*60*inst, 1000*100*365*24*60*60*inst]\n",
        "\n",
        "for unit, value in zip(time_units, time_values):\n",
        "    print(f\"{unit} {find_factorial_limit(value)}\")"
      ],
      "metadata": {
        "colab": {
          "base_uri": "https://localhost:8080/"
        },
        "outputId": "5a967682-ed51-498b-edf5-0fc34623bee0",
        "id": "sTVJu4EAACuU"
      },
      "execution_count": 94,
      "outputs": [
        {
          "output_type": "stream",
          "name": "stdout",
          "text": [
            "Second 11\n",
            "Minute 12\n",
            "Hour 14\n",
            "Day 15\n",
            "Year 17\n",
            "Century 19\n",
            "Millenium 21\n"
          ]
        }
      ]
    },
    {
      "cell_type": "markdown",
      "source": [
        " ### $\\bf{ Time\\ Complexity\\ n^n }$"
      ],
      "metadata": {
        "id": "FBeS73gEACuV"
      }
    },
    {
      "cell_type": "code",
      "source": [
        "def find_power_limit(v):\n",
        "    n = 1\n",
        "    while n**n <= v:\n",
        "        n += 1\n",
        "    return n - 1\n",
        "\n",
        "time_units = [\"Second\", \"Minute\", \"Hour\", \"Day\", \"Year\", \"Century\", \"Millenium\"]\n",
        "time_values = [inst, 60*inst, 60*60*inst, 24*60*60*inst, 365*24*60*60*inst, 100*365*24*60*60*inst, 1000*100*365*24*60*60*inst]\n",
        "\n",
        "for unit, value in zip(time_units, time_values):\n",
        "    print(f\"{unit} {find_power_limit(value)}\")"
      ],
      "metadata": {
        "colab": {
          "base_uri": "https://localhost:8080/"
        },
        "outputId": "aa5898dd-d5d7-4412-95e8-a6c98fe8cef2",
        "id": "dPUNQ4YsACuV"
      },
      "execution_count": 95,
      "outputs": [
        {
          "output_type": "stream",
          "name": "stdout",
          "text": [
            "Second 8\n",
            "Minute 9\n",
            "Hour 11\n",
            "Day 11\n",
            "Year 13\n",
            "Century 14\n",
            "Millenium 16\n"
          ]
        }
      ]
    },
    {
      "cell_type": "markdown",
      "metadata": {
        "id": "9fIs_70_DJWM"
      },
      "source": [
        "# 2. **2.5  nanoseconds by instruction**\n",
        "\n",
        "Asuuming that you can execute a 400 million instructions $400 \\times 10^6$ every second, i.e. each instrcution takes 2.5  nanoseconds, 2.5 $\\eta s  = 2.5 \\times 10^{-9} s$. If you have algorithms take $\\bf{ Time\\ Complexity}$ steps to solve a problem of size $n$ as specified in column one. What is the size of the largest problem that you can solve in the time specified in row one?\n",
        "$$\n",
        "\\begin{array}{|c|c|c|c|c|c|c|c|}\n",
        " \\hline\n",
        " \\bf{ Time\\ Complexity} & Second  & Minute  & Hour & Day & Year & Century & Mileniun  \\\\\n",
        "  \\hline\\\\\n",
        "\\lg(n) &  2^{2.5\\times 10^{09}}  & 2^{1.5\\times 10^{11}}  & 2^{9\\times 10^{12}} & 2^{2.16\\times 10^{14}} & 2^{7.884\\times 10^{16}} & 2^{7.884\\times 10^{18}} & 2^{7.884\\times 10^{21}} \\\\\n",
        "   \\hline\\\\\n",
        "\\lg^2(n) &  2^{ 50000 }  & 2^{ 387298 }  & 2^{ 3000000 } & 2^{ 14696938 } & 2^{ 280784615 } & 2^{ 2807846150 } &  2^{ 88791891522 }\\\\\n",
        "   \\hline\\\\\n",
        "\\sqrt{n} &  6.25\\times 10^{18}  &  2.25\\times 10^{22} & 8.1\\times 10^{25} & 4.6656\\times 10^{28} & 6.2157456\\times 10^{33} & 6.2157456\\times 10^{37} & 6.2157456\\times 10^{43} \\\\\n",
        " \\hline\n",
        " n &  2.50\\times 10^{09}  &  1.50\\times 10^{11} & 9\\times 10^{12} & 2.16\\times 10^{14} & 7.884\\times 10^{16} & 7.884\\times 10^{18} & 7.884\\times 10^{21} \\\\\n",
        " \\hline\n",
        " n\\lg(n) & 9.43687990\\times 10^{07}   & 4.66988019\\times 10^{09}  & 2.38139247\\times 10^{11} & 5.11627318\\times 10^{12} & 1.56204320\\times 10^{15} & 1.38456172\\times 10^{17} & 1.18235944\\times 10^{20} \\\\\n",
        " \\hline\n",
        " n^2 &  50000  & 387298  & 3000000 & 14696938 & 280784615 & 2807846150 & 88791891522 \\\\\n",
        " \\hline\n",
        "  n^3 &  1357  &  5313 & 20801 & 60000 & 428794 & 1990286 & 19902862 \\\\\n",
        " \\hline\n",
        "  n^4 &  224  &  622 & 1732 & 3834 & 16757 & 52989 & 297980 \\\\\n",
        " \\hline\n",
        "  2^n &  31  & 37  & 43 & 47 & 56 & 62 & 72 \\\\\n",
        " \\hline\n",
        " n! &  12  &  14 & 15 & 16 & 18 & 20 & 22 \\\\\n",
        " \\hline\n",
        " n^n &   9 & 10  & 12 & 12 & 14 & 15 & 17 \\\\\n",
        " \\hline\n",
        "\\end{array}\n",
        "$$\n"
      ]
    },
    {
      "cell_type": "code",
      "source": [
        "inst = 2.5*10**9"
      ],
      "metadata": {
        "id": "LPhEWgk_M6qh"
      },
      "execution_count": 138,
      "outputs": []
    },
    {
      "cell_type": "markdown",
      "source": [
        "### $\\bf{ Time\\ Complexity\\ \\lg(n) }$\n"
      ],
      "metadata": {
        "id": "y0mdyhkbM6qh"
      }
    },
    {
      "cell_type": "code",
      "source": [
        "time_units = [\"Second\", \"Minute\", \"Hour\", \"Day\", \"Year\", \"Century\", \"Millenium\"]\n",
        "time_values = [inst, 60*inst, 60*60*inst, 24*60*60*inst, 365*24*60*60*inst, 100*365*24*60*60*inst, 1000*100*365*24*60*60*inst]\n",
        "\n",
        "for unit, value in zip(time_units, time_values):\n",
        "    print(f\"{unit} = 2^{value:.4E}\")"
      ],
      "metadata": {
        "colab": {
          "base_uri": "https://localhost:8080/"
        },
        "id": "MpsSg1N6P5L8",
        "outputId": "d67e04e6-8c8d-4d2c-ee38-1af022bc13e1"
      },
      "execution_count": 97,
      "outputs": [
        {
          "output_type": "stream",
          "name": "stdout",
          "text": [
            "Second = 2^2.5000E+09\n",
            "Minute = 2^1.5000E+11\n",
            "Hour = 2^9.0000E+12\n",
            "Day = 2^2.1600E+14\n",
            "Year = 2^7.8840E+16\n",
            "Century = 2^7.8840E+18\n",
            "Millenium = 2^7.8840E+21\n"
          ]
        }
      ]
    },
    {
      "cell_type": "markdown",
      "source": [
        "###$\\bf{ Time\\ Complexity\\ \\lg^2(n) }$\n"
      ],
      "metadata": {
        "id": "ZT-Lp8OmM6qi"
      }
    },
    {
      "cell_type": "code",
      "source": [
        "time_units = [\"Second\", \"Minute\", \"Hour\", \"Day\", \"Year\", \"Century\", \"Millenium\"]\n",
        "time_values = [inst, 60*inst, 60*60*inst, 24*60*60*inst, 365*24*60*60*inst, 100*365*24*60*60*inst, 1000*100*365*24*60*60*inst]\n",
        "\n",
        "for unit, value in zip(time_units, time_values):\n",
        "    print(f\"{unit} 2^{{\", round(math.sqrt(value)), \"}}\")"
      ],
      "metadata": {
        "colab": {
          "base_uri": "https://localhost:8080/"
        },
        "outputId": "98592259-f091-4823-f42d-3cbf28c54164",
        "id": "g0A6zH2WM6qi"
      },
      "execution_count": 98,
      "outputs": [
        {
          "output_type": "stream",
          "name": "stdout",
          "text": [
            "Second 2^{ 50000 }}\n",
            "Minute 2^{ 387298 }}\n",
            "Hour 2^{ 3000000 }}\n",
            "Day 2^{ 14696938 }}\n",
            "Year 2^{ 280784615 }}\n",
            "Century 2^{ 2807846150 }}\n",
            "Millenium 2^{ 88791891522 }}\n"
          ]
        }
      ]
    },
    {
      "cell_type": "markdown",
      "source": [
        "###$\\bf{ Time\\ Complexity\\ \\sqrt{n} }$"
      ],
      "metadata": {
        "id": "w2tfyhR2M6qi"
      }
    },
    {
      "cell_type": "code",
      "source": [
        "print(\"Second \", \"{:.8E}\".format(math.pow(inst,2)))\n",
        "print(\"Minute  \",\"{:.8E}\".format(math.pow(60*inst,2)))\n",
        "print(\"Hour \",\"{:.8E}\".format(math.pow(60*60*inst,2)))\n",
        "print(\"Day \",\"{:.8E}\".format(math.pow(24*60*60*inst,2)))\n",
        "print(\"Year \",\"{:.8E}\".format(math.pow(365*24*60*60*inst,2)))\n",
        "print(\"Century \",\"{:.8E}\".format(math.pow(100*365*24*60*60*inst,2)))\n",
        "print(\"Mileniun  \",\"{:.8E}\".format(math.pow(1000*100*365*24*60*60*inst,2)))"
      ],
      "metadata": {
        "colab": {
          "base_uri": "https://localhost:8080/"
        },
        "outputId": "5d8e952d-7983-4259-c95b-6f4c6e8f8706",
        "id": "ZiISffJnM6qi"
      },
      "execution_count": 102,
      "outputs": [
        {
          "output_type": "stream",
          "name": "stdout",
          "text": [
            "Second  6.25000000E+18\n",
            "Minute   2.25000000E+22\n",
            "Hour  8.10000000E+25\n",
            "Day  4.66560000E+28\n",
            "Year  6.21574560E+33\n",
            "Century  6.21574560E+37\n",
            "Mileniun   6.21574560E+43\n"
          ]
        }
      ]
    },
    {
      "cell_type": "markdown",
      "source": [
        "### $\\bf{ Time\\ Complexity\\ n }$"
      ],
      "metadata": {
        "id": "qwycv9IpM6qj"
      }
    },
    {
      "cell_type": "code",
      "source": [
        "import math\n",
        "time_units = [\"Second\", \"Minute\", \"Hour\", \"Day\", \"Year\", \"Century\", \"Millenium\"]\n",
        "time_values = [inst, 60*inst, 60*60*inst, 24*60*60*inst, 365*24*60*60*inst, 100*365*24*60*60*inst, 1000*100*365*24*60*60*inst]\n",
        "\n",
        "for unit, value in zip(time_units, time_values):\n",
        "    print(f\"{unit} = {value:.4E}\")"
      ],
      "metadata": {
        "colab": {
          "base_uri": "https://localhost:8080/"
        },
        "outputId": "e5812ff2-fd4c-43e0-9d13-4decf275685a",
        "id": "LgcFoGYnM6qj"
      },
      "execution_count": 104,
      "outputs": [
        {
          "output_type": "stream",
          "name": "stdout",
          "text": [
            "Second = 2.5000E+09\n",
            "Minute = 1.5000E+11\n",
            "Hour = 9.0000E+12\n",
            "Day = 2.1600E+14\n",
            "Year = 7.8840E+16\n",
            "Century = 7.8840E+18\n",
            "Millenium = 7.8840E+21\n"
          ]
        }
      ]
    },
    {
      "cell_type": "markdown",
      "source": [
        "###$\\bf{ Time\\ Complexity\\ n\\lg{n} }$\n"
      ],
      "metadata": {
        "id": "dhhff6U-M6qj"
      }
    },
    {
      "cell_type": "code",
      "source": [
        "def f(n):\n",
        "    return n * math.log2(n)\n",
        "\n",
        "def find_largest_n(f, v):\n",
        "    l, r = 1, v\n",
        "    while True:\n",
        "        m = (l + r) // 2\n",
        "        if f(m + 1) > v and f(m) <= v or l == m or r == m:\n",
        "            return int(m)\n",
        "        elif f(m) < v:\n",
        "            l = m\n",
        "        else:\n",
        "            r = m\n",
        "\n",
        "time_units = [\"Second\", \"Minute\", \"Hour\", \"Day\", \"Year\", \"Century\", \"Millenium\"]\n",
        "time_values = [inst, 60*inst, 60*60*inst, 24*60*60*inst, 365*24*60*60*inst, 100*365*24*60*60*inst, 1000*100*365*24*60*60*inst]\n",
        "\n",
        "for unit, value in zip(time_units, time_values):\n",
        "    largest_n = find_largest_n(f, value)\n",
        "    print(f\"{unit} = {largest_n} = {largest_n:.8E}\")"
      ],
      "metadata": {
        "colab": {
          "base_uri": "https://localhost:8080/"
        },
        "outputId": "ee8e6258-7d85-4761-be7e-23420fe8cd0a",
        "id": "HkVkvP0FM6qj"
      },
      "execution_count": 105,
      "outputs": [
        {
          "output_type": "stream",
          "name": "stdout",
          "text": [
            "Second = 94368799 = 9.43687990E+07\n",
            "Minute = 4669880193 = 4.66988019E+09\n",
            "Hour = 238139246923 = 2.38139247E+11\n",
            "Day = 5116273177934 = 5.11627318E+12\n",
            "Year = 1562043197517483 = 1.56204320E+15\n",
            "Century = 138456171937759968 = 1.38456172E+17\n",
            "Millenium = 118235943866898644992 = 1.18235944E+20\n"
          ]
        }
      ]
    },
    {
      "cell_type": "markdown",
      "source": [
        "###$\\bf{ Time\\ Complexity\\ n^2}$"
      ],
      "metadata": {
        "id": "ip3RkUVaM6qj"
      }
    },
    {
      "cell_type": "code",
      "source": [
        "time_units = [\"Second\", \"Minute\", \"Hour\", \"Day\", \"Year\", \"Century\", \"Millenium\"]\n",
        "time_values = [inst, 60*inst, 60*60*inst, 24*60*60*inst, 365*24*60*60*inst, 100*365*24*60*60*inst, 1000*100*365*24*60*60*inst]\n",
        "\n",
        "for unit, value in zip(time_units, time_values):\n",
        "    print(f\"{unit} = {round(math.sqrt(value))}\")"
      ],
      "metadata": {
        "colab": {
          "base_uri": "https://localhost:8080/"
        },
        "outputId": "b15baa8b-cc97-4a5e-af53-05d2235ff22a",
        "id": "5M5FE88QM6qj"
      },
      "execution_count": 108,
      "outputs": [
        {
          "output_type": "stream",
          "name": "stdout",
          "text": [
            "Second = 50000\n",
            "Minute = 387298\n",
            "Hour = 3000000\n",
            "Day = 14696938\n",
            "Year = 280784615\n",
            "Century = 2807846150\n",
            "Millenium = 88791891522\n"
          ]
        }
      ]
    },
    {
      "cell_type": "markdown",
      "source": [
        "###$\\bf{ Time\\ Complexity\\ n^3 }$\n"
      ],
      "metadata": {
        "id": "7kXAuNqcM6qj"
      }
    },
    {
      "cell_type": "code",
      "source": [
        "time_units = [\"Second\", \"Minute\", \"Hour\", \"Day\", \"Year\", \"Century\", \"Millenium\"]\n",
        "time_values = [inst, 60*inst, 60*60*inst, 24*60*60*inst, 365*24*60*60*inst, 100*365*24*60*60*inst, 1000*100*365*24*60*60*inst]\n",
        "\n",
        "for unit, value in zip(time_units, time_values):\n",
        "    print(f\"{unit} = {round(value**(1/3))}\")"
      ],
      "metadata": {
        "colab": {
          "base_uri": "https://localhost:8080/"
        },
        "outputId": "31ee9f4d-8267-450a-b376-82aa71c6453c",
        "id": "LsW6VxttM6qk"
      },
      "execution_count": 109,
      "outputs": [
        {
          "output_type": "stream",
          "name": "stdout",
          "text": [
            "Second = 1357\n",
            "Minute = 5313\n",
            "Hour = 20801\n",
            "Day = 60000\n",
            "Year = 428794\n",
            "Century = 1990286\n",
            "Millenium = 19902862\n"
          ]
        }
      ]
    },
    {
      "cell_type": "markdown",
      "source": [
        "###$\\bf{ Time\\ Complexity\\ n^4 }$\n",
        "\n",
        "\n",
        "\n",
        "  "
      ],
      "metadata": {
        "id": "hjKCUrP4M6qk"
      }
    },
    {
      "cell_type": "code",
      "source": [
        "time_units = [\"Second\", \"Minute\", \"Hour\", \"Day\", \"Year\", \"Century\", \"Millenium\"]\n",
        "time_values = [inst, 60*inst, 60*60*inst, 24*60*60*inst, 365*24*60*60*inst, 100*365*24*60*60*inst, 1000*100*365*24*60*60*inst]\n",
        "\n",
        "for unit, value in zip(time_units, time_values):\n",
        "    print(f\"{unit} = {round(value**(1/4))}\")"
      ],
      "metadata": {
        "colab": {
          "base_uri": "https://localhost:8080/"
        },
        "outputId": "f1d36e84-34fc-480e-adbc-f25c25a65148",
        "id": "Q1vz0Co2M6qk"
      },
      "execution_count": 110,
      "outputs": [
        {
          "output_type": "stream",
          "name": "stdout",
          "text": [
            "Second = 224\n",
            "Minute = 622\n",
            "Hour = 1732\n",
            "Day = 3834\n",
            "Year = 16757\n",
            "Century = 52989\n",
            "Millenium = 297980\n"
          ]
        }
      ]
    },
    {
      "cell_type": "markdown",
      "source": [
        "###$\\bf{ Time\\ Complexity\\ 2^n }$\n",
        "\n"
      ],
      "metadata": {
        "id": "cq1TC6qqM6qk"
      }
    },
    {
      "cell_type": "code",
      "source": [
        "time_units = [\"Second\", \"Minute\", \"Hour\", \"Day\", \"Year\", \"Century\", \"Millenium\"]\n",
        "time_values = [inst, 60*inst, 60*60*inst, 24*60*60*inst, 365*24*60*60*inst, 100*365*24*60*60*inst, 1000*100*365*24*60*60*inst]\n",
        "\n",
        "for unit, value in zip(time_units, time_values):\n",
        "    print(f\"{unit} = {int(math.log2(value))}\")"
      ],
      "metadata": {
        "colab": {
          "base_uri": "https://localhost:8080/"
        },
        "outputId": "3446d142-4f5b-4d42-8e5a-e9acf5c9a0c6",
        "id": "Qr5tV3fqM6qk"
      },
      "execution_count": 111,
      "outputs": [
        {
          "output_type": "stream",
          "name": "stdout",
          "text": [
            "Second = 31\n",
            "Minute = 37\n",
            "Hour = 43\n",
            "Day = 47\n",
            "Year = 56\n",
            "Century = 62\n",
            "Millenium = 72\n"
          ]
        }
      ]
    },
    {
      "cell_type": "markdown",
      "source": [
        "###$\\bf{ Time\\ Complexity\\ n! }$\n",
        "\n"
      ],
      "metadata": {
        "id": "-JpPYbr9M6qk"
      }
    },
    {
      "cell_type": "code",
      "source": [
        "import math\n",
        "\n",
        "def f(n):\n",
        "  return math.factorial(n)\n",
        "\n",
        "def find(f, v):\n",
        "  l, r = 1, 100\n",
        "  while l < r:\n",
        "    m = (l + r) // 2\n",
        "    if f(m) <= v < f(m+1):\n",
        "      return m\n",
        "    elif f(m) < v:\n",
        "      l = m + 1\n",
        "    else:\n",
        "      r = m\n",
        "  return l\n",
        "\n",
        "time_units = [(\"Second\", 1), (\"Minute\", 60), (\"Hour\", 60*60),\n",
        "              (\"Day\", 24*60*60), (\"Year\", 365*24*60*60),\n",
        "              (\"Century\", 100*365*24*60*60),\n",
        "              (\"Millennium\", 1000*100*365*24*60*60)]\n",
        "\n",
        "for unit, multiplier in time_units:\n",
        "    print(f\"{unit}: {find(f, inst * multiplier)}\")\n"
      ],
      "metadata": {
        "colab": {
          "base_uri": "https://localhost:8080/"
        },
        "outputId": "de125d71-aa45-4c41-f6ee-3bb406e024a4",
        "id": "bsT37dn7M6qk"
      },
      "execution_count": 140,
      "outputs": [
        {
          "output_type": "stream",
          "name": "stdout",
          "text": [
            "Second: 12\n",
            "Minute: 14\n",
            "Hour: 15\n",
            "Day: 16\n",
            "Year: 18\n",
            "Century: 20\n",
            "Millennium: 22\n"
          ]
        }
      ]
    },
    {
      "cell_type": "markdown",
      "source": [
        " ### $\\bf{ Time\\ Complexity\\ n^n }$"
      ],
      "metadata": {
        "id": "m9PD2biFM6ql"
      }
    },
    {
      "cell_type": "code",
      "source": [
        "def f(n):\n",
        "  return n**n\n",
        "\n",
        "def find(f, v):\n",
        "  l, r = 1, 100\n",
        "  while l < r:\n",
        "    m = (l + r) // 2\n",
        "    if f(m) <= v < f(m+1):\n",
        "      return m\n",
        "    elif f(m) < v:\n",
        "      l = m + 1\n",
        "    else:\n",
        "      r = m\n",
        "  return l\n",
        "\n",
        "time_units = [(\"Second\", 1), (\"Minute\", 60), (\"Hour\", 60*60),\n",
        "              (\"Day\", 24*60*60), (\"Year\", 365*24*60*60),\n",
        "              (\"Century\", 100*365*24*60*60),\n",
        "              (\"Millennium\", 1000*100*365*24*60*60)]\n",
        "\n",
        "for unit, multiplier in time_units:\n",
        "    print(f\"{unit}: {find(f, inst * multiplier)}\")\n"
      ],
      "metadata": {
        "colab": {
          "base_uri": "https://localhost:8080/"
        },
        "outputId": "0acbeba5-6e16-4e2c-8ca2-623605b3e82f",
        "id": "uvhJ5wwoM6ql"
      },
      "execution_count": 139,
      "outputs": [
        {
          "output_type": "stream",
          "name": "stdout",
          "text": [
            "Second: 9\n",
            "Minute: 10\n",
            "Hour: 12\n",
            "Day: 12\n",
            "Year: 14\n",
            "Century: 15\n",
            "Millennium: 17\n"
          ]
        }
      ]
    },
    {
      "cell_type": "markdown",
      "metadata": {
        "id": "kwpTH36ZIyQJ"
      },
      "source": [
        "# 3. **1 noneosecond by instruction**\n",
        "\n",
        "Asuuming that you can execute a 1000 million instructions $10^9$ every second, i.e. each instrcution takes 1  nanosecond, 1 $\\eta s  = 10^{-9} s$. If you have algorithms take $\\bf{ Time\\ Complexity}$ steps to solve a problem of size $n$ as specified in column one. What is the size of the largest problem that you can solve in the time specified in row one?\n",
        "$$\n",
        "\\begin{array}{|c|c|c|c|c|c|c|c|}\n",
        " \\hline\n",
        " \\bf{ Time\\ Complexity} & Second  & Minute  & Hour & Day & Year & Century & Mileniun  \\\\\n",
        "  \\hline\\\\\n",
        "\\lg(n) &  2^{10\\times 10^{09}}  &  2^{6\\times 10^{10}}  &2^{3.6\\times 10^{12}}  & 2^{8.64\\times 10^{13}} & 2^{3.1536\\times 10^{16}} & 2^{3.1536\\times 10^{18}} & 2^{3.1536\\times 10^{21}} \\\\\n",
        "   \\hline\\\\\n",
        "\\lg^2(n) &   2^{ 31623 } &  2^{ 244949 } & 2^{ 1897367 } & 2^{ 9295160 } & 2^{ 177583783 } & 2^{ 1775837830 } & 2^{ 56156922993 } \\\\\n",
        "   \\hline\\\\\n",
        "\\sqrt{n} &  10^{18}  &  3.6\\times 10^{21} & 1.296\\times 10^{25} & 7.46496\\times 10^{27} & 9.94519296\\times 10^{32} & 9.94519296\\times 10^{36} & 9.94519296\\times 10^{42} \\\\\n",
        " \\hline\n",
        " n &  10^{09}  & 6\\times 10^{10}  & 3.6\\times 10^{12} & 8.64\\times 10^{13} & 3.1536\\times 10^{16} &  3.1536\\times 10^{18} & 3.1536\\times 10^{21} \\\\\n",
        " \\hline\n",
        " n\\lg(n) &  3.96200770\\times 10^{07}  &  1.94447045\\times 10^{09} & 9.85747745\\times 10^{10} & 2.11037274\\times 10^{12} & 6.41136862\\times 10^{14} & 5.66650934\\times 10^{16} & 4.82300896\\times 10^{19} \\\\\n",
        " \\hline\n",
        " n^2 &  31623  &  244949 & 1897367 & 9295160 & 177583783 & 1775837830 & 56156922993 \\\\\n",
        " \\hline\n",
        "  n^3 &  1000  & 3915  & 15326 & 44208 & 315938 & 1466455 & 14664554 \\\\\n",
        " \\hline\n",
        "  n^4 &  178  & 495  & 1377 & 3049 & 13326 & 42141 & 236975 \\\\\n",
        " \\hline\n",
        "  2^n &  29  &  35 & 41  & 46 & 54 & 61 & 71 \\\\\n",
        " \\hline\n",
        " n! &  12  &  13 & 15 & 16 & 18 & 20 & 22 \\\\\n",
        " \\hline\n",
        " n^n &   9 & 10  & 11 & 12 & 14 & 15 & 17 \\\\\n",
        " \\hline\n",
        "\\end{array}\n",
        "$$\n"
      ]
    },
    {
      "cell_type": "code",
      "source": [
        "inst = 10**9"
      ],
      "metadata": {
        "id": "ZCkfCqfpNoqu"
      },
      "execution_count": 123,
      "outputs": []
    },
    {
      "cell_type": "markdown",
      "source": [
        "### $\\bf{ Time\\ Complexity\\ \\lg(n) }$\n"
      ],
      "metadata": {
        "id": "lm9e8VUyNoqv"
      }
    },
    {
      "cell_type": "code",
      "source": [
        "time_units = [\"Second\", \"Minute\", \"Hour\", \"Day\", \"Year\", \"Century\", \"Millenium\"]\n",
        "time_values = [inst, 60*inst, 60*60*inst, 24*60*60*inst, 365*24*60*60*inst, 100*365*24*60*60*inst, 1000*100*365*24*60*60*inst]\n",
        "\n",
        "for unit, value in zip(time_units, time_values):\n",
        "    print(f\"{unit} = 2^{value:.4e}\")"
      ],
      "metadata": {
        "colab": {
          "base_uri": "https://localhost:8080/"
        },
        "id": "Q0FNiRrAP8ea",
        "outputId": "d697864b-7c15-499d-b68f-0e5bb529b7af"
      },
      "execution_count": 124,
      "outputs": [
        {
          "output_type": "stream",
          "name": "stdout",
          "text": [
            "Second = 2^1.0000e+09\n",
            "Minute = 2^6.0000e+10\n",
            "Hour = 2^3.6000e+12\n",
            "Day = 2^8.6400e+13\n",
            "Year = 2^3.1536e+16\n",
            "Century = 2^3.1536e+18\n",
            "Millenium = 2^3.1536e+21\n"
          ]
        }
      ]
    },
    {
      "cell_type": "markdown",
      "source": [
        "###$\\bf{ Time\\ Complexity\\ \\lg^2(n) }$\n"
      ],
      "metadata": {
        "id": "wSAsUU_gNoqv"
      }
    },
    {
      "cell_type": "code",
      "source": [
        "time_units = [\"Second\", \"Minute\", \"Hour\", \"Day\", \"Year\", \"Century\", \"Millenium\"]\n",
        "time_values = [inst, 60*inst, 60*60*inst, 24*60*60*inst, 365*24*60*60*inst, 100*365*24*60*60*inst, 1000*100*365*24*60*60*inst]\n",
        "\n",
        "for unit, value in zip(time_units, time_values):\n",
        "    print(f\"{unit} 2^{{{round(math.sqrt(value))}}}\")"
      ],
      "metadata": {
        "colab": {
          "base_uri": "https://localhost:8080/"
        },
        "outputId": "b6426212-3c39-4c02-a6ba-592027ca649d",
        "id": "FKK4982uNoqv"
      },
      "execution_count": 125,
      "outputs": [
        {
          "output_type": "stream",
          "name": "stdout",
          "text": [
            "Second 2^{31623}\n",
            "Minute 2^{244949}\n",
            "Hour 2^{1897367}\n",
            "Day 2^{9295160}\n",
            "Year 2^{177583783}\n",
            "Century 2^{1775837830}\n",
            "Millenium 2^{56156922993}\n"
          ]
        }
      ]
    },
    {
      "cell_type": "markdown",
      "source": [
        "###$\\bf{ Time\\ Complexity\\ \\sqrt{n} }$"
      ],
      "metadata": {
        "id": "0wX3entjNoqw"
      }
    },
    {
      "cell_type": "code",
      "source": [
        "time_units = [\"Second\", \"Minute\", \"Hour\", \"Day\", \"Year\", \"Century\", \"Millenium\"]\n",
        "time_values = [inst, 60*inst, 60*60*inst, 24*60*60*inst, 365*24*60*60*inst, 100*365*24*60*60*inst, 1000*100*365*24*60*60*inst]\n",
        "\n",
        "for unit, value in zip(time_units, time_values):\n",
        "    print(f\"{unit} = {math.pow(value, 2):.6E}\")\n"
      ],
      "metadata": {
        "colab": {
          "base_uri": "https://localhost:8080/"
        },
        "outputId": "e61bc71e-da28-4534-a395-dbc3bce8ed05",
        "id": "PTw-Pt9gNoqw"
      },
      "execution_count": 126,
      "outputs": [
        {
          "output_type": "stream",
          "name": "stdout",
          "text": [
            "Second = 1.000000E+18\n",
            "Minute = 3.600000E+21\n",
            "Hour = 1.296000E+25\n",
            "Day = 7.464960E+27\n",
            "Year = 9.945193E+32\n",
            "Century = 9.945193E+36\n",
            "Millenium = 9.945193E+42\n"
          ]
        }
      ]
    },
    {
      "cell_type": "markdown",
      "source": [
        "### $\\bf{ Time\\ Complexity\\ n }$"
      ],
      "metadata": {
        "id": "OzCI5MCNNoqw"
      }
    },
    {
      "cell_type": "code",
      "source": [
        "time_units = [\"Second\", \"Minute\", \"Hour\", \"Day\", \"Year\", \"Century\", \"Millenium\"]\n",
        "time_values = [inst, 60*inst, 60*60*inst, 24*60*60*inst, 365*24*60*60*inst, 100*365*24*60*60*inst, 1000*100*365*24*60*60*inst]\n",
        "\n",
        "for unit, value in zip(time_units, time_values):\n",
        "    print(f\"{unit} = {value:.4E}\")"
      ],
      "metadata": {
        "colab": {
          "base_uri": "https://localhost:8080/"
        },
        "outputId": "52d2387c-ef79-4081-92e4-6995175fdca4",
        "id": "w3VvgSQ7Noqw"
      },
      "execution_count": 129,
      "outputs": [
        {
          "output_type": "stream",
          "name": "stdout",
          "text": [
            "Second = 1.0000E+09\n",
            "Minute = 6.0000E+10\n",
            "Hour = 3.6000E+12\n",
            "Day = 8.6400E+13\n",
            "Year = 3.1536E+16\n",
            "Century = 3.1536E+18\n",
            "Millenium = 3.1536E+21\n"
          ]
        }
      ]
    },
    {
      "cell_type": "markdown",
      "source": [
        "###$\\bf{ Time\\ Complexity\\ n\\lg{n} }$\n"
      ],
      "metadata": {
        "id": "kwribeHRNoqw"
      }
    },
    {
      "cell_type": "code",
      "source": [
        "import math\n",
        "def f(n):\n",
        "  return n*math.log2(n)\n",
        "\n",
        "\n",
        "def find(f,v):\n",
        "  l = 1\n",
        "  r = v\n",
        "  while True:\n",
        "    m = int((l+r)/2)\n",
        "    if ((f(m+1) > v) and (f(m) <= v) ) or (l == m) or  (r == m):\n",
        "      return int(m)\n",
        "    elif f(m) < v:\n",
        "      l = m\n",
        "    else:\n",
        "      r = m\n",
        "\n",
        "print(\"Second \", find(f,inst),\" = \", \"{:.8E}\".format(find(f,inst )))\n",
        "print(\"Minute  \",find(f,60*inst),\" = \", \"{:.8E}\".format(find(f,60*inst )))\n",
        "print(\"Hour \",find(f,60*60*inst),\" = \", \"{:.8E}\".format(find(f,60*60*inst )))\n",
        "print(\"Day \",find(f,24*60*60*inst ),\" = \", \"{:.8E}\".format(find(f,24*60*60*inst )) )\n",
        "print(\"Year \",find(f,365*24*60*60*inst ),\" = \", \"{:.8E}\".format(find(f,365*24*60*60*inst )) )\n",
        "print(\"Century \",find(f,100*365*24*60*60*inst ),\" = \", \"{:.8E}\".format(find(f,100*365*24*60*60*inst )) )\n",
        "print(\"Mileniun \",find(f,1000*100*365*24*60*60*inst ),\" = \", \"{:.8E}\".format(find(f,1000*100*365*24*60*60*inst )) )"
      ],
      "metadata": {
        "colab": {
          "base_uri": "https://localhost:8080/"
        },
        "outputId": "a1dc3d3d-11c1-46ca-e5ca-15053c3fb6b0",
        "id": "p7b_UXZINoqw"
      },
      "execution_count": null,
      "outputs": [
        {
          "output_type": "stream",
          "name": "stdout",
          "text": [
            "Second  39620077  =  3.96200770E+07\n",
            "Minute   1944470450  =  1.94447045E+09\n",
            "Hour  98574774544  =  9.85747745E+10\n",
            "Day  2110372739876  =  2.11037274E+12\n",
            "Year  641136862352841  =  6.41136862E+14\n",
            "Century  56665093434063120  =  5.66650934E+16\n",
            "Mileniun  48230089612197773312  =  4.82300896E+19\n"
          ]
        }
      ]
    },
    {
      "cell_type": "markdown",
      "source": [
        "###$\\bf{ Time\\ Complexity\\ n^2}$"
      ],
      "metadata": {
        "id": "A1l5SBvzNoqw"
      }
    },
    {
      "cell_type": "code",
      "source": [
        "time_units = [\"Second\", \"Minute\", \"Hour\", \"Day\", \"Year\", \"Century\", \"Millenium\"]\n",
        "time_values = [inst, 60*inst, 60*60*inst, 24*60*60*inst, 365*24*60*60*inst, 100*365*24*60*60*inst, 1000*100*365*24*60*60*inst]\n",
        "\n",
        "for unit, value in zip(time_units, time_values):\n",
        "    print(f\"{unit} = {round(math.sqrt(value))}\")"
      ],
      "metadata": {
        "colab": {
          "base_uri": "https://localhost:8080/"
        },
        "outputId": "69f307fb-a7ac-4f10-8456-ae1f2228f54c",
        "id": "n9wjrY1LNoqw"
      },
      "execution_count": 130,
      "outputs": [
        {
          "output_type": "stream",
          "name": "stdout",
          "text": [
            "Second = 31623\n",
            "Minute = 244949\n",
            "Hour = 1897367\n",
            "Day = 9295160\n",
            "Year = 177583783\n",
            "Century = 1775837830\n",
            "Millenium = 56156922993\n"
          ]
        }
      ]
    },
    {
      "cell_type": "markdown",
      "source": [
        "###$\\bf{ Time\\ Complexity\\ n^3 }$\n"
      ],
      "metadata": {
        "id": "nMyjGWN1Noqw"
      }
    },
    {
      "cell_type": "code",
      "source": [
        "time_units = [\"Second\", \"Minute\", \"Hour\", \"Day\", \"Year\", \"Century\", \"Millenium\"]\n",
        "time_values = [inst, 60*inst, 60*60*inst, 24*60*60*inst, 365*24*60*60*inst, 100*365*24*60*60*inst, 1000*100*365*24*60*60*inst]\n",
        "\n",
        "for unit, value in zip(time_units, time_values):\n",
        "    print(f\"{unit} = {round(math.pow(value, 1/3))}\")"
      ],
      "metadata": {
        "colab": {
          "base_uri": "https://localhost:8080/"
        },
        "outputId": "d3bdeb1a-a4c5-47de-a8d3-51dd41076d19",
        "id": "FbWRNOjuNoqx"
      },
      "execution_count": 131,
      "outputs": [
        {
          "output_type": "stream",
          "name": "stdout",
          "text": [
            "Second = 1000\n",
            "Minute = 3915\n",
            "Hour = 15326\n",
            "Day = 44208\n",
            "Year = 315938\n",
            "Century = 1466455\n",
            "Millenium = 14664554\n"
          ]
        }
      ]
    },
    {
      "cell_type": "markdown",
      "source": [
        "###$\\bf{ Time\\ Complexity\\ n^4 }$\n",
        "\n",
        "\n",
        "\n",
        "  "
      ],
      "metadata": {
        "id": "hSxPvqMcNoqx"
      }
    },
    {
      "cell_type": "code",
      "source": [
        "time_units = [\"Second\", \"Minute\", \"Hour\", \"Day\", \"Year\", \"Century\", \"Millenium\"]\n",
        "time_values = [inst, 60*inst, 60*60*inst, 24*60*60*inst, 365*24*60*60*inst, 100*365*24*60*60*inst, 1000*100*365*24*60*60*inst]\n",
        "\n",
        "for unit, value in zip(time_units, time_values):\n",
        "    print(f\"{unit} = {round(math.pow(value, 1/4))}\")"
      ],
      "metadata": {
        "colab": {
          "base_uri": "https://localhost:8080/"
        },
        "outputId": "9523c172-e3a6-418e-b800-a2bbf6c21e6b",
        "id": "KZ89skD3Noqx"
      },
      "execution_count": 132,
      "outputs": [
        {
          "output_type": "stream",
          "name": "stdout",
          "text": [
            "Second = 178\n",
            "Minute = 495\n",
            "Hour = 1377\n",
            "Day = 3049\n",
            "Year = 13326\n",
            "Century = 42141\n",
            "Millenium = 236975\n"
          ]
        }
      ]
    },
    {
      "cell_type": "markdown",
      "source": [
        "###$\\bf{ Time\\ Complexity\\ 2^n }$\n",
        "\n"
      ],
      "metadata": {
        "id": "uYfQmiDnNoqx"
      }
    },
    {
      "cell_type": "code",
      "source": [
        "time_units = [\"Second\", \"Minute\", \"Hour\", \"Day\", \"Year\", \"Century\", \"Millenium\"]\n",
        "time_values = [inst, 60*inst, 60*60*inst, 24*60*60*inst, 365*24*60*60*inst, 100*365*24*60*60*inst, 1000*100*365*24*60*60*inst]\n",
        "\n",
        "for unit, value in zip(time_units, time_values):\n",
        "    print(f\"{unit} = {int(math.log2(value))}\")"
      ],
      "metadata": {
        "colab": {
          "base_uri": "https://localhost:8080/"
        },
        "outputId": "c26dcced-eb27-4918-ab32-92d9d0873372",
        "id": "i9k2_jiENoqx"
      },
      "execution_count": 135,
      "outputs": [
        {
          "output_type": "stream",
          "name": "stdout",
          "text": [
            "Second = 29\n",
            "Minute = 35\n",
            "Hour = 41\n",
            "Day = 46\n",
            "Year = 54\n",
            "Century = 61\n",
            "Millenium = 71\n"
          ]
        }
      ]
    },
    {
      "cell_type": "markdown",
      "source": [
        "###$\\bf{ Time\\ Complexity\\ n! }$\n",
        "\n"
      ],
      "metadata": {
        "id": "qArIputyNoqx"
      }
    },
    {
      "cell_type": "code",
      "source": [
        "import math\n",
        "def f(n):\n",
        "  return math.factorial(n)\n",
        "\n",
        "def find(f,v):\n",
        "  l = 1\n",
        "  r = 100\n",
        "  while True:\n",
        "    m = int((l+r)/2)\n",
        "    if ((f(m+1) > v) and (f(m) <= v) ) or (l == m) or (r== m):\n",
        "      return int(m)\n",
        "    elif f(m) < v:\n",
        "      l = m\n",
        "    else:\n",
        "      r = m\n",
        "\n",
        "\n",
        "print(\"Second \", find(f,inst ))\n",
        "print(\"Minute  \",find(f,60*inst ))\n",
        "print(\"Hour \",find(f,60*60*inst ))\n",
        "print(\"Day \",find(f,24*60*60*inst ))\n",
        "print(\"Year \",find(f,365*24*60*60*inst ))\n",
        "print(\"Century \",find(f,100*365*24*60*60*inst ))\n",
        "print(\"Mileniun \",find(f,1000*100*365*24*60*60*inst ))"
      ],
      "metadata": {
        "colab": {
          "base_uri": "https://localhost:8080/"
        },
        "outputId": "4211a424-a535-4bbb-c0fa-3f9bf2c46d24",
        "id": "jaQ5cGL4Noqx"
      },
      "execution_count": 136,
      "outputs": [
        {
          "output_type": "stream",
          "name": "stdout",
          "text": [
            "Second  12\n",
            "Minute   13\n",
            "Hour  15\n",
            "Day  16\n",
            "Year  18\n",
            "Century  20\n",
            "Mileniun  22\n"
          ]
        }
      ]
    },
    {
      "cell_type": "markdown",
      "source": [
        " ### $\\bf{ Time\\ Complexity\\ n^n }$"
      ],
      "metadata": {
        "id": "xbQTuV0pNoqx"
      }
    },
    {
      "cell_type": "code",
      "source": [
        "import math\n",
        "def f(n):\n",
        "  return n**n\n",
        "\n",
        "def find(f,v):\n",
        "  l = 1\n",
        "  r = 100\n",
        "  while True:\n",
        "    m = int((l+r)/2)\n",
        "    if ((f(m+1) > v) and (f(m) <= v) ) or (l == m) or (r== m):\n",
        "      return int(m)\n",
        "    elif f(m) < v:\n",
        "      l = m\n",
        "    else:\n",
        "      r = m\n",
        "\n",
        "print(\"Second \", find(f,inst ))\n",
        "print(\"Minute  \",find(f,60*inst ))\n",
        "print(\"Hour \",find(f,60*60*inst ))\n",
        "print(\"Day \",find(f,24*60*60*inst ))\n",
        "print(\"Year \",find(f,365*24*60*60*inst ))\n",
        "print(\"Century \",find(f,100*365*24*60*60*inst ))\n",
        "print(\"Mileniun \",find(f,1000*100*365*24*60*60*inst ))"
      ],
      "metadata": {
        "colab": {
          "base_uri": "https://localhost:8080/"
        },
        "outputId": "ba0612b7-e7cb-4386-e533-a498296a7861",
        "id": "HrXiwO1qNoqx"
      },
      "execution_count": 137,
      "outputs": [
        {
          "output_type": "stream",
          "name": "stdout",
          "text": [
            "Second  9\n",
            "Minute   10\n",
            "Hour  11\n",
            "Day  12\n",
            "Year  14\n",
            "Century  15\n",
            "Mileniun  17\n"
          ]
        }
      ]
    }
  ]
}